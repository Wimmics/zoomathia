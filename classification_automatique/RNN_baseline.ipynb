{
 "cells": [
  {
   "cell_type": "code",
   "execution_count": null,
   "outputs": [],
   "source": [
    "!pip install tensorflow"
   ],
   "metadata": {
    "collapsed": false
   }
  },
  {
   "cell_type": "code",
   "execution_count": 1,
   "outputs": [
    {
     "name": "stdout",
     "output_type": "stream",
     "text": [
      "Collecting tensorflow-hub\r\n",
      "  Downloading tensorflow_hub-0.15.0-py2.py3-none-any.whl (85 kB)\r\n",
      "\u001B[2K     \u001B[90m━━━━━━━━━━━━━━━━━━━━━━━━━━━━━━━━━━━━━━━━\u001B[0m \u001B[32m85.4/85.4 kB\u001B[0m \u001B[31m1.3 MB/s\u001B[0m eta \u001B[36m0:00:00\u001B[0ma \u001B[36m0:00:01\u001B[0m\r\n",
      "\u001B[?25hRequirement already satisfied: protobuf>=3.19.6 in /Users/mdhouib/.conda/envs/2016-EDM/lib/python3.9/site-packages (from tensorflow-hub) (4.21.12)\r\n",
      "Requirement already satisfied: numpy>=1.12.0 in /Users/mdhouib/.conda/envs/2016-EDM/lib/python3.9/site-packages (from tensorflow-hub) (1.23.4)\r\n",
      "Installing collected packages: tensorflow-hub\r\n",
      "Successfully installed tensorflow-hub-0.15.0\r\n"
     ]
    }
   ],
   "source": [
    "!pip install tensorflow-hub"
   ],
   "metadata": {
    "collapsed": false,
    "ExecuteTime": {
     "end_time": "2023-10-17T15:11:34.785042Z",
     "start_time": "2023-10-17T15:11:31.669662Z"
    }
   }
  },
  {
   "cell_type": "code",
   "execution_count": 1,
   "outputs": [
    {
     "name": "stderr",
     "output_type": "stream",
     "text": [
      "2023-10-18 18:15:10.458058: I tensorflow/core/platform/cpu_feature_guard.cc:193] This TensorFlow binary is optimized with oneAPI Deep Neural Network Library (oneDNN) to use the following CPU instructions in performance-critical operations:  SSE4.1 SSE4.2 AVX AVX2 AVX512F AVX512_VNNI FMA\n",
      "To enable them in other operations, rebuild TensorFlow with the appropriate compiler flags.\n"
     ]
    }
   ],
   "source": [
    "import pandas as pd\n",
    "import tensorflow as tf\n",
    "import tensorflow_hub as hub"
   ],
   "metadata": {
    "collapsed": false,
    "ExecuteTime": {
     "end_time": "2023-10-18T16:15:22.389983Z",
     "start_time": "2023-10-18T16:15:02.841852Z"
    }
   }
  },
  {
   "cell_type": "code",
   "execution_count": 2,
   "outputs": [
    {
     "data": {
      "text/plain": "   Unnamed: 0                                          Paragraph  Anatomy  \\\n0           0    Ad reliqua transeamus animalia et primum ter...        0   \n1           1    Auctores sunt in Mauretaniae saltibus ad que...        0   \n2           2    Alienae quoque religionis intellectu credunt...        0   \n3           3    Romae iuncti primum subiere currum Pompei Ma...        0   \n4           4    Vulgare erat per auras arma iacere, non aufe...        0   \n\n   ancient class  Anthroponym  Environment  Ethology  General description  \\\n0              0            0            0         1                    0   \n1              0            0            1         1                    0   \n2              0            0            0         1                    0   \n3              0            1            0         0                    0   \n4              0            0            0         0                    0   \n\n   peoples  Physiology  Place  Relationship between man and animal  Topic  \\\n0        0           0      0                                    0      0   \n1        0           0      1                                    0      0   \n2        0           0      0                                    0      0   \n3        0           0      1                                    0      0   \n4        0           0      0                                    0      0   \n\n   Zoological information  Zoonyms                        target_collection  \\\n0                       0        0  [0, 0, 0, 0, 1, 0, 0, 0, 0, 0, 0, 0, 0]   \n1                       1        0  [0, 0, 0, 1, 1, 0, 0, 0, 1, 0, 0, 1, 0]   \n2                       0        0  [0, 0, 0, 0, 1, 0, 0, 0, 0, 0, 0, 0, 0]   \n3                       1        0  [0, 0, 1, 0, 0, 0, 0, 0, 1, 0, 0, 1, 0]   \n4                       0        0  [0, 0, 0, 0, 0, 0, 0, 0, 0, 0, 0, 0, 0]   \n\n                                        english_text  \n0  For the rest let us pass to the animals, and f...  \n1  In the passes of Mauretania, their herds come ...  \n2  It is also believed by the foreign religious u...  \n3  Rome was first joined by the chariot of Pompey...  \n4  It was common to throw weapons to the winds, n...  ",
      "text/html": "<div>\n<style scoped>\n    .dataframe tbody tr th:only-of-type {\n        vertical-align: middle;\n    }\n\n    .dataframe tbody tr th {\n        vertical-align: top;\n    }\n\n    .dataframe thead th {\n        text-align: right;\n    }\n</style>\n<table border=\"1\" class=\"dataframe\">\n  <thead>\n    <tr style=\"text-align: right;\">\n      <th></th>\n      <th>Unnamed: 0</th>\n      <th>Paragraph</th>\n      <th>Anatomy</th>\n      <th>ancient class</th>\n      <th>Anthroponym</th>\n      <th>Environment</th>\n      <th>Ethology</th>\n      <th>General description</th>\n      <th>peoples</th>\n      <th>Physiology</th>\n      <th>Place</th>\n      <th>Relationship between man and animal</th>\n      <th>Topic</th>\n      <th>Zoological information</th>\n      <th>Zoonyms</th>\n      <th>target_collection</th>\n      <th>english_text</th>\n    </tr>\n  </thead>\n  <tbody>\n    <tr>\n      <th>0</th>\n      <td>0</td>\n      <td>Ad reliqua transeamus animalia et primum ter...</td>\n      <td>0</td>\n      <td>0</td>\n      <td>0</td>\n      <td>0</td>\n      <td>1</td>\n      <td>0</td>\n      <td>0</td>\n      <td>0</td>\n      <td>0</td>\n      <td>0</td>\n      <td>0</td>\n      <td>0</td>\n      <td>0</td>\n      <td>[0, 0, 0, 0, 1, 0, 0, 0, 0, 0, 0, 0, 0]</td>\n      <td>For the rest let us pass to the animals, and f...</td>\n    </tr>\n    <tr>\n      <th>1</th>\n      <td>1</td>\n      <td>Auctores sunt in Mauretaniae saltibus ad que...</td>\n      <td>0</td>\n      <td>0</td>\n      <td>0</td>\n      <td>1</td>\n      <td>1</td>\n      <td>0</td>\n      <td>0</td>\n      <td>0</td>\n      <td>1</td>\n      <td>0</td>\n      <td>0</td>\n      <td>1</td>\n      <td>0</td>\n      <td>[0, 0, 0, 1, 1, 0, 0, 0, 1, 0, 0, 1, 0]</td>\n      <td>In the passes of Mauretania, their herds come ...</td>\n    </tr>\n    <tr>\n      <th>2</th>\n      <td>2</td>\n      <td>Alienae quoque religionis intellectu credunt...</td>\n      <td>0</td>\n      <td>0</td>\n      <td>0</td>\n      <td>0</td>\n      <td>1</td>\n      <td>0</td>\n      <td>0</td>\n      <td>0</td>\n      <td>0</td>\n      <td>0</td>\n      <td>0</td>\n      <td>0</td>\n      <td>0</td>\n      <td>[0, 0, 0, 0, 1, 0, 0, 0, 0, 0, 0, 0, 0]</td>\n      <td>It is also believed by the foreign religious u...</td>\n    </tr>\n    <tr>\n      <th>3</th>\n      <td>3</td>\n      <td>Romae iuncti primum subiere currum Pompei Ma...</td>\n      <td>0</td>\n      <td>0</td>\n      <td>1</td>\n      <td>0</td>\n      <td>0</td>\n      <td>0</td>\n      <td>0</td>\n      <td>0</td>\n      <td>1</td>\n      <td>0</td>\n      <td>0</td>\n      <td>1</td>\n      <td>0</td>\n      <td>[0, 0, 1, 0, 0, 0, 0, 0, 1, 0, 0, 1, 0]</td>\n      <td>Rome was first joined by the chariot of Pompey...</td>\n    </tr>\n    <tr>\n      <th>4</th>\n      <td>4</td>\n      <td>Vulgare erat per auras arma iacere, non aufe...</td>\n      <td>0</td>\n      <td>0</td>\n      <td>0</td>\n      <td>0</td>\n      <td>0</td>\n      <td>0</td>\n      <td>0</td>\n      <td>0</td>\n      <td>0</td>\n      <td>0</td>\n      <td>0</td>\n      <td>0</td>\n      <td>0</td>\n      <td>[0, 0, 0, 0, 0, 0, 0, 0, 0, 0, 0, 0, 0]</td>\n      <td>It was common to throw weapons to the winds, n...</td>\n    </tr>\n  </tbody>\n</table>\n</div>"
     },
     "execution_count": 2,
     "metadata": {},
     "output_type": "execute_result"
    }
   ],
   "source": [
    "df = pd.read_csv(\"/Users/mdhouib/Documents/GitHub/zoomathia/classification_automatique/data/Pline_paragraph_translated.csv\", sep=';', encoding='utf-8')\n",
    "df.head()"
   ],
   "metadata": {
    "collapsed": false,
    "ExecuteTime": {
     "end_time": "2023-10-18T16:15:29.630688Z",
     "start_time": "2023-10-18T16:15:29.520315Z"
    }
   }
  },
  {
   "cell_type": "code",
   "execution_count": 3,
   "outputs": [],
   "source": [
    "df['target_collection'] = df[['Anatomy',\n",
    "                               'Place',\n",
    "                                'Zoonyms']].values.tolist()"
   ],
   "metadata": {
    "collapsed": false,
    "ExecuteTime": {
     "end_time": "2023-10-18T16:15:32.634805Z",
     "start_time": "2023-10-18T16:15:32.618660Z"
    }
   }
  },
  {
   "cell_type": "code",
   "execution_count": 4,
   "outputs": [],
   "source": [
    "df_collection_pararaph=df[['english_text', 'target_collection']]"
   ],
   "metadata": {
    "collapsed": false,
    "ExecuteTime": {
     "end_time": "2023-10-18T16:15:33.713727Z",
     "start_time": "2023-10-18T16:15:33.697609Z"
    }
   }
  },
  {
   "cell_type": "code",
   "execution_count": 5,
   "outputs": [
    {
     "name": "stdout",
     "output_type": "stream",
     "text": [
      "764\n"
     ]
    }
   ],
   "source": [
    "print(len(df_collection_pararaph))"
   ],
   "metadata": {
    "collapsed": false,
    "ExecuteTime": {
     "end_time": "2023-10-18T16:15:34.716493Z",
     "start_time": "2023-10-18T16:15:34.698651Z"
    }
   }
  },
  {
   "cell_type": "code",
   "execution_count": 6,
   "outputs": [],
   "source": [
    "# Split dataset into training and test set\n",
    "train_size = int(df_collection_pararaph.shape[0] * 0.8)\n",
    "\n",
    "train_df = df_collection_pararaph[:train_size]\n",
    "test_df = df_collection_pararaph[train_size:]"
   ],
   "metadata": {
    "collapsed": false,
    "ExecuteTime": {
     "end_time": "2023-10-18T16:15:35.596793Z",
     "start_time": "2023-10-18T16:15:35.575659Z"
    }
   }
  },
  {
   "cell_type": "code",
   "execution_count": 7,
   "outputs": [],
   "source": [
    "# split text and labels\n",
    "import numpy as np\n",
    "train_sentences = train_df.english_text.to_numpy()\n",
    "train_labels = train_df.target_collection#.to_numpy()\n",
    "test_sentences = test_df.english_text.to_numpy()\n",
    "test_sentences = np.array([np.array(val) for val in test_sentences])  # reconstruct\n",
    "test_labels = test_df.target_collection.to_numpy()"
   ],
   "metadata": {
    "collapsed": false,
    "ExecuteTime": {
     "end_time": "2023-10-18T16:15:36.464326Z",
     "start_time": "2023-10-18T16:15:36.447018Z"
    }
   }
  },
  {
   "cell_type": "code",
   "execution_count": 8,
   "outputs": [
    {
     "name": "stdout",
     "output_type": "stream",
     "text": [
      "[[0 0 0]\n",
      " [0 1 0]\n",
      " [0 0 0]\n",
      " ...\n",
      " [1 0 0]\n",
      " [1 1 0]\n",
      " [0 1 0]]\n"
     ]
    }
   ],
   "source": [
    "train_labels = np.array([np.array(val) for val in train_labels])\n",
    "print((train_labels))"
   ],
   "metadata": {
    "collapsed": false,
    "ExecuteTime": {
     "end_time": "2023-10-18T16:15:38.179108Z",
     "start_time": "2023-10-18T16:15:38.163228Z"
    }
   }
  },
  {
   "cell_type": "code",
   "execution_count": 9,
   "outputs": [
    {
     "name": "stdout",
     "output_type": "stream",
     "text": [
      "[[1 0 1]\n",
      " [0 1 0]\n",
      " [1 0 0]\n",
      " [0 0 1]\n",
      " [1 0 1]\n",
      " [1 0 1]\n",
      " [0 0 0]\n",
      " [1 1 0]\n",
      " [0 0 0]\n",
      " [0 0 0]\n",
      " [0 0 1]\n",
      " [0 0 1]\n",
      " [0 0 0]\n",
      " [0 0 0]\n",
      " [0 0 1]\n",
      " [0 0 1]\n",
      " [1 0 1]\n",
      " [1 0 0]\n",
      " [1 0 0]\n",
      " [1 0 1]\n",
      " [1 0 1]\n",
      " [0 0 1]\n",
      " [0 1 1]\n",
      " [0 1 1]\n",
      " [0 0 0]\n",
      " [1 0 1]\n",
      " [1 0 1]\n",
      " [1 0 1]\n",
      " [0 1 0]\n",
      " [0 1 0]\n",
      " [1 0 0]\n",
      " [0 0 1]\n",
      " [0 0 0]\n",
      " [0 0 1]\n",
      " [1 0 0]\n",
      " [0 0 0]\n",
      " [1 0 0]\n",
      " [0 0 0]\n",
      " [1 0 0]\n",
      " [1 0 1]\n",
      " [0 0 0]\n",
      " [0 0 0]\n",
      " [1 0 0]\n",
      " [1 0 1]\n",
      " [0 0 0]\n",
      " [1 0 0]\n",
      " [0 1 0]\n",
      " [0 0 0]\n",
      " [0 0 0]\n",
      " [0 0 0]\n",
      " [0 1 0]\n",
      " [0 0 0]\n",
      " [0 0 0]\n",
      " [0 0 0]\n",
      " [1 0 0]\n",
      " [0 0 1]\n",
      " [0 0 0]\n",
      " [1 0 0]\n",
      " [0 0 1]\n",
      " [0 0 1]\n",
      " [1 0 0]\n",
      " [1 0 0]\n",
      " [0 0 1]\n",
      " [0 0 0]\n",
      " [0 0 0]\n",
      " [0 1 0]\n",
      " [0 1 0]\n",
      " [0 1 0]\n",
      " [0 0 0]\n",
      " [0 0 0]\n",
      " [0 0 0]\n",
      " [0 0 0]\n",
      " [0 0 0]\n",
      " [0 1 0]\n",
      " [0 0 0]\n",
      " [0 1 0]\n",
      " [0 0 0]\n",
      " [0 1 0]\n",
      " [0 0 0]\n",
      " [1 0 1]\n",
      " [0 0 1]\n",
      " [1 0 0]\n",
      " [0 1 0]\n",
      " [0 0 0]\n",
      " [1 0 0]\n",
      " [1 0 0]\n",
      " [1 0 0]\n",
      " [0 1 0]\n",
      " [0 0 0]\n",
      " [1 0 0]\n",
      " [0 0 0]\n",
      " [1 1 0]\n",
      " [0 0 0]\n",
      " [1 0 1]\n",
      " [0 0 1]\n",
      " [0 0 0]\n",
      " [0 0 1]\n",
      " [1 0 1]\n",
      " [1 0 1]\n",
      " [1 0 0]\n",
      " [0 0 0]\n",
      " [0 0 0]\n",
      " [0 0 1]\n",
      " [0 0 1]\n",
      " [0 0 1]\n",
      " [0 0 0]\n",
      " [1 0 1]\n",
      " [0 1 1]\n",
      " [1 1 1]\n",
      " [1 1 1]\n",
      " [0 1 0]\n",
      " [0 0 1]\n",
      " [0 0 1]\n",
      " [0 0 0]\n",
      " [0 0 0]\n",
      " [0 0 0]\n",
      " [0 0 0]\n",
      " [0 0 1]\n",
      " [0 0 0]\n",
      " [1 0 0]\n",
      " [1 1 0]\n",
      " [0 1 0]\n",
      " [0 1 1]\n",
      " [1 0 1]\n",
      " [0 1 0]\n",
      " [1 0 0]\n",
      " [0 0 0]\n",
      " [1 1 0]\n",
      " [1 0 1]\n",
      " [1 0 0]\n",
      " [1 0 1]\n",
      " [0 1 1]\n",
      " [1 1 1]\n",
      " [1 0 0]\n",
      " [0 0 0]\n",
      " [0 1 0]\n",
      " [0 1 0]\n",
      " [0 1 0]\n",
      " [0 1 0]\n",
      " [0 0 0]\n",
      " [1 0 0]\n",
      " [0 0 0]\n",
      " [0 1 0]\n",
      " [0 1 0]\n",
      " [0 0 1]\n",
      " [0 0 1]\n",
      " [0 0 0]\n",
      " [1 0 1]\n",
      " [1 0 1]\n",
      " [0 0 0]\n",
      " [1 1 1]\n",
      " [0 1 0]\n",
      " [1 1 1]]\n"
     ]
    }
   ],
   "source": [
    "test_labels = np.array([np.array(val) for val in test_labels])\n",
    "print((test_labels))"
   ],
   "metadata": {
    "collapsed": false,
    "ExecuteTime": {
     "end_time": "2023-10-18T16:15:38.973349Z",
     "start_time": "2023-10-18T16:15:38.956769Z"
    }
   }
  },
  {
   "cell_type": "code",
   "execution_count": 10,
   "outputs": [
    {
     "name": "stdout",
     "output_type": "stream",
     "text": [
      "Training entries: 611, test entries: 153\n"
     ]
    }
   ],
   "source": [
    "print(\"Training entries: {}, test entries: {}\".format(len(train_sentences), len(test_sentences)))"
   ],
   "metadata": {
    "collapsed": false,
    "ExecuteTime": {
     "end_time": "2023-10-18T16:15:39.753396Z",
     "start_time": "2023-10-18T16:15:39.735117Z"
    }
   }
  },
  {
   "cell_type": "code",
   "execution_count": 11,
   "outputs": [
    {
     "name": "stdout",
     "output_type": "stream",
     "text": [
      "(611, 3)\n"
     ]
    }
   ],
   "source": [
    "print(train_labels.shape)"
   ],
   "metadata": {
    "collapsed": false,
    "ExecuteTime": {
     "end_time": "2023-10-18T16:15:40.455179Z",
     "start_time": "2023-10-18T16:15:40.408707Z"
    }
   }
  },
  {
   "cell_type": "code",
   "execution_count": 13,
   "outputs": [
    {
     "name": "stderr",
     "output_type": "stream",
     "text": [
      "2023-10-19 09:36:18.865072: I tensorflow/core/platform/cpu_feature_guard.cc:193] This TensorFlow binary is optimized with oneAPI Deep Neural Network Library (oneDNN) to use the following CPU instructions in performance-critical operations:  SSE4.1 SSE4.2 AVX AVX2 AVX512F AVX512_VNNI FMA\n",
      "To enable them in other operations, rebuild TensorFlow with the appropriate compiler flags.\n"
     ]
    }
   ],
   "source": [
    "model = \"https://tfhub.dev/google/universal-sentence-encoder/4\"\n",
    "hub_layer = hub.KerasLayer(model, input_shape=[], dtype=tf.string, trainable=True)"
   ],
   "metadata": {
    "collapsed": false,
    "ExecuteTime": {
     "end_time": "2023-10-19T07:36:23.760095Z",
     "start_time": "2023-10-19T07:34:43.358897Z"
    }
   }
  },
  {
   "cell_type": "code",
   "execution_count": 14,
   "outputs": [],
   "source": [
    "train_embedded= hub_layer(train_sentences)"
   ],
   "metadata": {
    "collapsed": false,
    "ExecuteTime": {
     "end_time": "2023-10-19T07:37:24.890951Z",
     "start_time": "2023-10-19T07:37:24.095427Z"
    }
   }
  },
  {
   "cell_type": "code",
   "execution_count": 15,
   "outputs": [
    {
     "name": "stdout",
     "output_type": "stream",
     "text": [
      "WARNING:tensorflow:From /Users/mdhouib/.conda/envs/2016-EDM/lib/python3.9/site-packages/tensorflow/python/autograph/pyct/static_analysis/liveness.py:83: Analyzer.lamba_check (from tensorflow.python.autograph.pyct.static_analysis.liveness) is deprecated and will be removed after 2023-09-23.\n",
      "Instructions for updating:\n",
      "Lambda fuctions will be no more assumed to be used in the statement where they are used, or at least in the same block. https://github.com/tensorflow/tensorflow/issues/56089\n"
     ]
    },
    {
     "name": "stderr",
     "output_type": "stream",
     "text": [
      "WARNING:tensorflow:From /Users/mdhouib/.conda/envs/2016-EDM/lib/python3.9/site-packages/tensorflow/python/autograph/pyct/static_analysis/liveness.py:83: Analyzer.lamba_check (from tensorflow.python.autograph.pyct.static_analysis.liveness) is deprecated and will be removed after 2023-09-23.\n",
      "Instructions for updating:\n",
      "Lambda fuctions will be no more assumed to be used in the statement where they are used, or at least in the same block. https://github.com/tensorflow/tensorflow/issues/56089\n"
     ]
    }
   ],
   "source": [
    "from keras.models import Sequential\n",
    "from keras.regularizers import l2\n",
    "from keras.layers import Dense, Activation\n",
    "RNN = Sequential()\n",
    "RNN.add(hub_layer)\n",
    "#RNN.add(Dense(512, kernel_initializer='normal',activation='relu'))\n",
    "RNN.add(Dense(80,kernel_initializer='normal', activation='relu'))\n",
    "RNN.add(Dense(3, kernel_initializer='normal', activation='sigmoid'))"
   ],
   "metadata": {
    "collapsed": false,
    "ExecuteTime": {
     "end_time": "2023-10-19T07:37:30.716627Z",
     "start_time": "2023-10-19T07:37:30.255535Z"
    }
   }
  },
  {
   "cell_type": "code",
   "execution_count": 16,
   "outputs": [
    {
     "name": "stdout",
     "output_type": "stream",
     "text": [
      "Model: \"sequential\"\n",
      "_________________________________________________________________\n",
      " Layer (type)                Output Shape              Param #   \n",
      "=================================================================\n",
      " keras_layer (KerasLayer)    (None, 512)               256797824 \n",
      "                                                                 \n",
      " dense (Dense)               (None, 80)                41040     \n",
      "                                                                 \n",
      " dense_1 (Dense)             (None, 3)                 243       \n",
      "                                                                 \n",
      "=================================================================\n",
      "Total params: 256,839,107\n",
      "Trainable params: 256,839,107\n",
      "Non-trainable params: 0\n",
      "_________________________________________________________________\n"
     ]
    }
   ],
   "source": [
    "RNN.summary()"
   ],
   "metadata": {
    "collapsed": false,
    "ExecuteTime": {
     "end_time": "2023-10-19T07:37:36.745783Z",
     "start_time": "2023-10-19T07:37:36.687019Z"
    }
   }
  },
  {
   "cell_type": "code",
   "execution_count": 17,
   "outputs": [],
   "source": [
    "RNN.compile(optimizer='sgd',\n",
    "            loss='binary_crossentropy',\n",
    "              metrics=['accuracy'])"
   ],
   "metadata": {
    "collapsed": false,
    "ExecuteTime": {
     "end_time": "2023-10-19T07:37:38.730461Z",
     "start_time": "2023-10-19T07:37:38.710579Z"
    }
   }
  },
  {
   "cell_type": "code",
   "execution_count": 18,
   "outputs": [
    {
     "name": "stdout",
     "output_type": "stream",
     "text": [
      "Epoch 1/5\n",
      "16/16 [==============================] - 15s 458ms/step - loss: 0.6961 - accuracy: 0.2152 - val_loss: 0.6958 - val_accuracy: 0.1138\n",
      "Epoch 2/5\n",
      "16/16 [==============================] - 7s 426ms/step - loss: 0.6940 - accuracy: 0.2541 - val_loss: 0.6939 - val_accuracy: 0.1138\n",
      "Epoch 3/5\n",
      "16/16 [==============================] - 7s 429ms/step - loss: 0.6920 - accuracy: 0.2623 - val_loss: 0.6920 - val_accuracy: 0.1545\n",
      "Epoch 4/5\n",
      "16/16 [==============================] - 8s 496ms/step - loss: 0.6901 - accuracy: 0.2623 - val_loss: 0.6901 - val_accuracy: 0.1626\n",
      "Epoch 5/5\n",
      "16/16 [==============================] - 7s 429ms/step - loss: 0.6881 - accuracy: 0.2807 - val_loss: 0.6883 - val_accuracy: 0.1870\n"
     ]
    }
   ],
   "source": [
    "history = RNN.fit(train_sentences, train_labels,\n",
    "                epochs=5,\n",
    "                  batch_size=32,\n",
    "                  validation_split=0.2, verbose=1)"
   ],
   "metadata": {
    "collapsed": false,
    "ExecuteTime": {
     "end_time": "2023-10-19T07:38:23.765013Z",
     "start_time": "2023-10-19T07:37:40.405003Z"
    }
   }
  },
  {
   "cell_type": "code",
   "execution_count": 19,
   "outputs": [
    {
     "name": "stdout",
     "output_type": "stream",
     "text": [
      "(153, 3)\n",
      "5/5 [==============================] - 0s 16ms/step - loss: 0.6878 - accuracy: 0.2418\n",
      "[0.687802255153656, 0.24183006584644318]\n"
     ]
    }
   ],
   "source": [
    "print(test_labels.shape)\n",
    "results = RNN.evaluate(test_sentences, test_labels)\n",
    "\n",
    "print(results)"
   ],
   "metadata": {
    "collapsed": false,
    "ExecuteTime": {
     "end_time": "2023-10-19T07:38:33.687638Z",
     "start_time": "2023-10-19T07:38:33.542727Z"
    }
   }
  },
  {
   "cell_type": "code",
   "execution_count": 20,
   "outputs": [
    {
     "data": {
      "text/plain": "<Figure size 640x480 with 1 Axes>",
      "image/png": "[encoded data removed]"
     },
     "metadata": {},
     "output_type": "display_data"
    }
   ],
   "source": [
    "from matplotlib import pyplot\n",
    "# plot training history\n",
    "pyplot.plot(history.history['loss'], label='train')\n",
    "pyplot.plot(history.history['val_loss'], label='test')\n",
    "pyplot.legend()\n",
    "pyplot.show()"
   ],
   "metadata": {
    "collapsed": false,
    "ExecuteTime": {
     "end_time": "2023-10-19T07:40:28.303716Z",
     "start_time": "2023-10-19T07:40:27.079635Z"
    }
   }
  },
  {
   "cell_type": "code",
   "execution_count": null,
   "outputs": [],
   "source": [],
   "metadata": {
    "collapsed": false
   }
  }
 ],
 "metadata": {
  "kernelspec": {
   "display_name": "Python 3",
   "language": "python",
   "name": "python3"
  },
  "language_info": {
   "codemirror_mode": {
    "name": "ipython",
    "version": 2
   },
   "file_extension": ".py",
   "mimetype": "text/x-python",
   "name": "python",
   "nbconvert_exporter": "python",
   "pygments_lexer": "ipython2",
   "version": "2.7.6"
  }
 },
 "nbformat": 4,
 "nbformat_minor": 0
}
